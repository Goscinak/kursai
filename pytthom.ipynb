{
  "nbformat": 4,
  "nbformat_minor": 0,
  "metadata": {
    "colab": {
      "provenance": [],
      "authorship_tag": "ABX9TyMIlqKmZUbCNYhUjJ24HNcm",
      "include_colab_link": true
    },
    "kernelspec": {
      "name": "python3",
      "display_name": "Python 3"
    },
    "language_info": {
      "name": "python"
    }
  },
  "cells": [
    {
      "cell_type": "markdown",
      "metadata": {
        "id": "view-in-github",
        "colab_type": "text"
      },
      "source": [
        "<a href=\"https://colab.research.google.com/github/Goscinak/kursai/blob/main/pytthom.ipynb\" target=\"_parent\"><img src=\"https://colab.research.google.com/assets/colab-badge.svg\" alt=\"Open In Colab\"/></a>"
      ]
    },
    {
      "cell_type": "markdown",
      "source": [
        "# Podstawowe elementy języka python\n"
      ],
      "metadata": {
        "id": "VFe-QcdmZIxf"
      }
    },
    {
      "cell_type": "markdown",
      "source": [
        "W tym rozdziale przedstawimy podstawowe elementy\n",
        "składni języka Python\n",
        "\n",
        "https://www.python.org/"
      ],
      "metadata": {
        "id": "GftgaKVgZWeO"
      }
    },
    {
      "cell_type": "markdown",
      "source": [
        "**Omawiane elementy**\n",
        "---\n",
        "1. Zmienne\n",
        "---\n",
        "2. Listy\n",
        "---\n",
        "3. Pętle\n",
        "---\n",
        "4. Słowniki i krotki\n",
        "---\n",
        "5. Instrukcje warunkowe\n",
        "---\n",
        "6. Funkcje\n",
        "---\n",
        "7. Obsługa plików\n",
        "\n",
        "---\n",
        "\n",
        "\n",
        "8. Obsługa wyjątków"
      ],
      "metadata": {
        "id": "S85frPruZiT1"
      }
    }
  ]
}